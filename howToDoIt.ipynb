{
 "cells": [
  {
   "cell_type": "markdown",
   "metadata": {},
   "source": [
    "# **FORMULARIO COM FLASK**\n",
    "\n",
    "Vamos ao passo a passo de como criar um formulario com Flask.\n",
    "\n",
    "Primeiro vamos criar o nosso ambiente virtural e para isso primeiramente vamos instalar o pacote que cria os ambientes digitando o comando abaixo no terminal:\n",
    "\n",
    "![virtualenv](img/virtualenv.png)\n",
    "\n",
    "Feito isso, vamos criar o ambiente com o comando:\n",
    "\n",
    "#### No Windows\n",
    "python -m venv venv\n",
    "\n",
    "#### No Linux/Mac\n",
    "python3 -m venv venv\n",
    "\n",
    "Após a criação e verificação que uma pasta chamada 'VENV' foi criada no seu projeto, vamos inicializar o ambiente com o comando:\n",
    "\n",
    "![activation](img/activation.png)\n",
    "\n",
    "Caso a ativação tenha sido um sucesso, seu prompt deverá ter o seguinte aspecto:\n",
    "\n",
    "![venvok](img/venvok.png)\n",
    " \n",
    "Após isso iremos instalar o Flask no nosso ambiente:\n",
    "\n",
    "![pipflask](img/pipflask.png)\n",
    "\n",
    "## **Primeira janela:**\n",
    "\n",
    "Vamos criar um arquivo **app.py** e digitar o código abaixo:"
   ]
  },
  {
   "cell_type": "code",
   "execution_count": null,
   "metadata": {},
   "outputs": [],
   "source": [
    "from flask import Flask, render_template\n",
    "\n",
    "app = Flask(__name__)\n",
    "\n",
    "@app.route('/')\n",
    "def ola():\n",
    "    return '<p>Hello, Flask!</p>'\n",
    "\n",
    "if __name__ == '__main__':\n",
    "    app.run(debug=True)\n"
   ]
  },
  {
   "cell_type": "markdown",
   "metadata": {},
   "source": [
    "Após isso vamo executar o arquivo no terminal:\n",
    "\n",
    "![runflask](img/run.png)\n"
   ]
  },
  {
   "cell_type": "markdown",
   "metadata": {},
   "source": [
    "## **FASK-WTF**\n",
    "\n",
    "Agora vamos fazer uso de outra lib do flask, a Flask-WTF (Flask-WebForms) que facilita a criação e validação de formulários em seus aplicativos web Flask.\n",
    "\n",
    "![flaskwtfpip](img/flaskwtfpip.png)]\n",
    "\n",
    "Além do pip, faz-se necessário importar a lib para o projeto conforme abaixo:"
   ]
  },
  {
   "cell_type": "code",
   "execution_count": null,
   "metadata": {},
   "outputs": [],
   "source": [
    "from flask_wtf import FlaskForm\n",
    "from wtforms import StringField, SubmitField, EmailField"
   ]
  },
  {
   "cell_type": "markdown",
   "metadata": {},
   "source": []
  },
  {
   "cell_type": "markdown",
   "metadata": {},
   "source": []
  },
  {
   "cell_type": "markdown",
   "metadata": {},
   "source": [
    "# **PADRÃO DE PROJETO MVC**\n",
    "\n",
    "## **Model:**\n",
    "\n",
    "- Regras de negócio\n",
    "- Entidades\n",
    "- Funções de consulta ao banco de dados\n",
    "\n",
    "## **View (Renderizador de resposta)**\n",
    "\n",
    "- HTML / CSS / Flask\n",
    "- **Pasta templates** \n",
    "- Arquivos: **app.py** e **forms.py**\n",
    "\n",
    "## **Controller**\n",
    "\n",
    "Executa o 'meio de campo' entre os models e os views:\n",
    "\n",
    "### Dados:\n",
    "- Detentor da camada de acesso aos dados:\n",
    "    - **helper.py**\n",
    "\n",
    "### Requisições\n",
    "- Executa a requizição, leva pro acesso aos dados e devolve pro view\n",
    "\n",
    "\n",
    "\n"
   ]
  }
 ],
 "metadata": {
  "language_info": {
   "name": "python"
  }
 },
 "nbformat": 4,
 "nbformat_minor": 2
}
